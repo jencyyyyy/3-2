{
 "cells": [
  {
   "cell_type": "code",
   "execution_count": 7,
   "id": "a86c854d",
   "metadata": {
    "scrolled": false
   },
   "outputs": [],
   "source": [
    "#!pip install matplotlib\n",
    "from matplotlib import pyplot as plt"
   ]
  },
  {
   "cell_type": "code",
   "execution_count": 19,
   "id": "661b3290",
   "metadata": {},
   "outputs": [],
   "source": [
    "def DDA(x0,y0,x1,y1):\n",
    "    dx = abs(x0-x1)\n",
    "    dy = abs(y0-y1)\n",
    "    \n",
    "    steps= max(dy,dy)\n",
    "    \n",
    "    m = dy/dx\n",
    "    \n",
    "    x_cor = []\n",
    "    y_cor = []\n",
    "    \n",
    "    x = float(x0)\n",
    "    y = float(y0)\n",
    "    \n",
    "    for i in range(steps+1):\n",
    "        x_cor.append(x)\n",
    "        #round one at a time here\n",
    "        y = round(y,2)\n",
    "        y_cor.append(y)\n",
    "        \n",
    "        if(-1<m<1):\n",
    "            x +=1\n",
    "            y +=m\n",
    "        else:\n",
    "            y+=1\n",
    "            x+=(1/m)\n",
    "            \n",
    "    x_cor.append(x1)\n",
    "    y_cor.append(y1)\n",
    "    \n",
    "    return x_cor,y_cor"
   ]
  },
  {
   "cell_type": "code",
   "execution_count": 20,
   "id": "5e5cd495",
   "metadata": {
    "scrolled": true
   },
   "outputs": [
    {
     "name": "stdout",
     "output_type": "stream",
     "text": [
      "[1.0, 2.0, 3.0, 4.0, 5.0, 6.0, 7.0, 8]\n",
      "[1.0, 1.86, 2.72, 3.58, 4.44, 5.3, 6.16, 7]\n"
     ]
    }
   ],
   "source": [
    "x0,y0 = 1,1\n",
    "x1,y1 = 8,7\n",
    "\n",
    "rtn = DDA(x0,y0,x1,y1)\n",
    "\n",
    "x = rtn[0]\n",
    "y = rtn[1]\n",
    "#round all at once here\n",
    "#y = [round(num, 2) for num in y]\n",
    "#print(type(y))\n",
    "print(x)\n",
    "print(y)"
   ]
  }
 ],
 "metadata": {
  "kernelspec": {
   "display_name": "Python 3 (ipykernel)",
   "language": "python",
   "name": "python3"
  },
  "language_info": {
   "codemirror_mode": {
    "name": "ipython",
    "version": 3
   },
   "file_extension": ".py",
   "mimetype": "text/x-python",
   "name": "python",
   "nbconvert_exporter": "python",
   "pygments_lexer": "ipython3",
   "version": "3.10.0"
  }
 },
 "nbformat": 4,
 "nbformat_minor": 5
}
